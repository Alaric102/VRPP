{
 "cells": [
  {
   "cell_type": "code",
   "execution_count": 1,
   "metadata": {},
   "outputs": [],
   "source": [
    "from AStarBase import AStar\n",
    "import numpy as np\n",
    "import utils\n",
    "import matplotlib.pyplot as plt"
   ]
  },
  {
   "cell_type": "code",
   "execution_count": 4,
   "metadata": {},
   "outputs": [
    {
     "name": "stdout",
     "output_type": "stream",
     "text": [
      "VoxelMap size: (64, 64, 64)\n",
      "VoxelMap grid size: [0.144375   0.03546875 0.3129688 ]\n",
      "VoxelMap min corner: [ -4.62        -0.08500004 -10.015     ]\n",
      "New start state:  [0.16760781 2.         2.2329998 ]\n",
      "New start state:  [0. 2. 0.]\n",
      "startStateDescrete [33 10 39]\n",
      "goalStateDescrete [32  4 31]\n",
      "Finished in 0.004958629608154297 sec.\n"
     ]
    },
    {
     "ename": "KeyboardInterrupt",
     "evalue": "",
     "output_type": "error",
     "traceback": [
      "\u001b[1;31m---------------------------------------------------------------------------\u001b[0m",
      "\u001b[1;31mKeyboardInterrupt\u001b[0m                         Traceback (most recent call last)",
      "\u001b[1;32md:\\catkin_ws\\src\\VRPP_ROS\\Scripts\\test.ipynb Cell 2'\u001b[0m in \u001b[0;36m<cell line: 9>\u001b[1;34m()\u001b[0m\n\u001b[0;32m      <a href='vscode-notebook-cell:/d%3A/catkin_ws/src/VRPP_ROS/Scripts/test.ipynb#ch0000001?line=6'>7</a>\u001b[0m globalPlanner\u001b[39m.\u001b[39mSetGoalState(goalState)\n\u001b[0;32m      <a href='vscode-notebook-cell:/d%3A/catkin_ws/src/VRPP_ROS/Scripts/test.ipynb#ch0000001?line=8'>9</a>\u001b[0m \u001b[39mif\u001b[39;00m globalPlanner\u001b[39m.\u001b[39mGetGlobalPlan():\n\u001b[1;32m---> <a href='vscode-notebook-cell:/d%3A/catkin_ws/src/VRPP_ROS/Scripts/test.ipynb#ch0000001?line=9'>10</a>\u001b[0m     plan \u001b[39m=\u001b[39m globalPlanner\u001b[39m.\u001b[39;49mGetPlan()\n\u001b[0;32m     <a href='vscode-notebook-cell:/d%3A/catkin_ws/src/VRPP_ROS/Scripts/test.ipynb#ch0000001?line=11'>12</a>\u001b[0m     voxelMap \u001b[39m=\u001b[39m globalPlanner\u001b[39m.\u001b[39mGetVoxelMap()\n\u001b[0;32m     <a href='vscode-notebook-cell:/d%3A/catkin_ws/src/VRPP_ROS/Scripts/test.ipynb#ch0000001?line=12'>13</a>\u001b[0m     fig, axes \u001b[39m=\u001b[39m utils\u001b[39m.\u001b[39mPlotVoxelProjection(voxelMap)\n",
      "File \u001b[1;32md:\\catkin_ws\\src\\VRPP_ROS\\Scripts\\AStarBase.py:165\u001b[0m, in \u001b[0;36mAStar.GetPlan\u001b[1;34m(self)\u001b[0m\n\u001b[0;32m    <a href='file:///d%3A/catkin_ws/src/VRPP_ROS/Scripts/AStarBase.py?line=163'>164</a>\u001b[0m \u001b[39mdef\u001b[39;00m \u001b[39mGetPlan\u001b[39m(\u001b[39mself\u001b[39m):\n\u001b[1;32m--> <a href='file:///d%3A/catkin_ws/src/VRPP_ROS/Scripts/AStarBase.py?line=164'>165</a>\u001b[0m     res \u001b[39m=\u001b[39m \u001b[39mself\u001b[39;49m\u001b[39m.\u001b[39;49m__graph\u001b[39m.\u001b[39;49mGetBranch(\u001b[39mself\u001b[39;49m\u001b[39m.\u001b[39;49mgoalStateDescrete)\n\u001b[0;32m    <a href='file:///d%3A/catkin_ws/src/VRPP_ROS/Scripts/AStarBase.py?line=165'>166</a>\u001b[0m     \u001b[39mprint\u001b[39m(\u001b[39m\"\u001b[39m\u001b[39mPath length: \u001b[39m\u001b[39m\"\u001b[39m, \u001b[39mlen\u001b[39m(res))\n\u001b[0;32m    <a href='file:///d%3A/catkin_ws/src/VRPP_ROS/Scripts/AStarBase.py?line=166'>167</a>\u001b[0m     \u001b[39mreturn\u001b[39;00m res\n",
      "File \u001b[1;32md:\\catkin_ws\\src\\VRPP_ROS\\Scripts\\GraphBase.py:26\u001b[0m, in \u001b[0;36mGraph.GetBranch\u001b[1;34m(self, endState)\u001b[0m\n\u001b[0;32m     <a href='file:///d%3A/catkin_ws/src/VRPP_ROS/Scripts/GraphBase.py?line=23'>24</a>\u001b[0m     res\u001b[39m.\u001b[39minsert(\u001b[39m0\u001b[39m, np\u001b[39m.\u001b[39marray(parentState, dtype\u001b[39m=\u001b[39mnp\u001b[39m.\u001b[39muint))\n\u001b[0;32m     <a href='file:///d%3A/catkin_ws/src/VRPP_ROS/Scripts/GraphBase.py?line=24'>25</a>\u001b[0m     \u001b[39m# res.appendleft(np.array(parentState, dtype=np.uint))\u001b[39;00m\n\u001b[1;32m---> <a href='file:///d%3A/catkin_ws/src/VRPP_ROS/Scripts/GraphBase.py?line=25'>26</a>\u001b[0m     parentState \u001b[39m=\u001b[39m \u001b[39mself\u001b[39;49m\u001b[39m.\u001b[39;49m__graph\u001b[39m.\u001b[39;49mget(parentState)\n\u001b[0;32m     <a href='file:///d%3A/catkin_ws/src/VRPP_ROS/Scripts/GraphBase.py?line=26'>27</a>\u001b[0m \u001b[39mreturn\u001b[39;00m res\n",
      "\u001b[1;31mKeyboardInterrupt\u001b[0m: "
     ]
    }
   ],
   "source": [
    "globalPlanner = AStar()\n",
    "globalPlanner.LoadVoxelMap(full_path = \"D:/catkin_ws/src/VRPP_ROS/launch/map.txt\")\n",
    "\n",
    "startState = np.array([0.16760781, 2.0,         2.2329998], dtype=float)\n",
    "goalState = np.array([0.0, 2.0, 0.0], dtype=float)\n",
    "globalPlanner.SetStartState(startState)\n",
    "globalPlanner.SetGoalState(goalState)\n",
    "\n",
    "if globalPlanner.GetGlobalPlan():\n",
    "    plan = globalPlanner.GetPlan()\n",
    "\n",
    "    voxelMap = globalPlanner.GetVoxelMap()\n",
    "    fig, axes = utils.PlotVoxelProjection(voxelMap)\n",
    "    for state in plan:\n",
    "        utils.PlotVoxelStateProjection(axes, state, \"yellow\")\n",
    "    \n",
    "    utils.PlotVoxelStateProjection(axes, globalPlanner.startStateDescrete, \"blue\")\n",
    "    utils.PlotVoxelStateProjection(axes, globalPlanner.goalStateDescrete, \"green\")\n",
    "    plt.show()"
   ]
  }
 ],
 "metadata": {
  "interpreter": {
   "hash": "2e3143b19c3dc42496282d96a18c1e3fd3290650c6a661c264b2fc3933fe5921"
  },
  "kernelspec": {
   "display_name": "Python 3.9.10 64-bit (windows store)",
   "language": "python",
   "name": "python3"
  },
  "language_info": {
   "codemirror_mode": {
    "name": "ipython",
    "version": 3
   },
   "file_extension": ".py",
   "mimetype": "text/x-python",
   "name": "python",
   "nbconvert_exporter": "python",
   "pygments_lexer": "ipython3",
   "version": "3.10.2"
  },
  "orig_nbformat": 4
 },
 "nbformat": 4,
 "nbformat_minor": 2
}
